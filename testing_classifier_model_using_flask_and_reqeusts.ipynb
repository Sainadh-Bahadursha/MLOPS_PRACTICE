{
 "cells": [
  {
   "cell_type": "code",
   "execution_count": 3,
   "metadata": {},
   "outputs": [],
   "source": [
    "import pickle"
   ]
  },
  {
   "cell_type": "code",
   "execution_count": 1,
   "metadata": {},
   "outputs": [],
   "source": [
    "loan_application = {\n",
    "    'Gender': \"Male\",\n",
    "    'Married': \"Unmarried\",\n",
    "    'ApplicantIncome': 50000,\n",
    "    'Credit_History': \"Cleared Debts\",\n",
    "    'LoanAmount': 500000\n",
    "}"
   ]
  },
  {
   "cell_type": "code",
   "execution_count": 4,
   "metadata": {},
   "outputs": [],
   "source": [
    "model_pickle = open(\"classifier.pkl\", 'rb')\n",
    "clf = pickle.load(model_pickle)"
   ]
  },
  {
   "cell_type": "code",
   "execution_count": 5,
   "metadata": {},
   "outputs": [],
   "source": [
    "from flask import Flask, request, jsonify\n",
    "\n",
    "def prediction(loan_req):\n",
    "    # Pre-processing user input\n",
    "\n",
    "#     loan_req = request.get_json()\n",
    "    print(loan_req)\n",
    "\n",
    "    if loan_req['Gender'] == \"Male\":\n",
    "        Gender = 0\n",
    "    else:\n",
    "        Gender = 1\n",
    "\n",
    "    if loan_req['Married'] == \"Unmarried\":\n",
    "        Married = 0\n",
    "    else:\n",
    "        Married = 1\n",
    "\n",
    "    if loan_req['Credit_History'] == \"Unclear Debts\":\n",
    "        Credit_History = 0\n",
    "    else:\n",
    "        Credit_History = 1\n",
    "\n",
    "    ApplicantIncome = loan_req['ApplicantIncome']\n",
    "    LoanAmount = loan_req['LoanAmount'] / 1000\n",
    "\n",
    "    # Making predictions\n",
    "    prediction = clf.predict(\n",
    "        [[Gender, Married, ApplicantIncome, LoanAmount, Credit_History]])\n",
    "\n",
    "    if prediction == 0:\n",
    "        pred = 'Rejected'\n",
    "    else:\n",
    "        pred = 'Approved'\n",
    "    return pred\n"
   ]
  },
  {
   "cell_type": "code",
   "execution_count": 6,
   "metadata": {},
   "outputs": [
    {
     "name": "stdout",
     "output_type": "stream",
     "text": [
      "{'Gender': 'Male', 'Married': 'Unmarried', 'ApplicantIncome': 50000, 'Credit_History': 'Cleared Debts', 'LoanAmount': 500000}\n"
     ]
    },
    {
     "name": "stderr",
     "output_type": "stream",
     "text": [
      "c:\\Users\\saina\\Desktop\\DS_ML_AI\\Scaler\\Module_17_MLOPS\\MLOPS_GIT\\MLOPS_PRACTICE\\mlops_venv\\Lib\\site-packages\\sklearn\\base.py:493: UserWarning: X does not have valid feature names, but LogisticRegression was fitted with feature names\n",
      "  warnings.warn(\n"
     ]
    },
    {
     "data": {
      "text/plain": [
       "'Approved'"
      ]
     },
     "execution_count": 6,
     "metadata": {},
     "output_type": "execute_result"
    }
   ],
   "source": [
    "prediction(loan_application)"
   ]
  }
 ],
 "metadata": {
  "kernelspec": {
   "display_name": "mlops_venv",
   "language": "python",
   "name": "python3"
  },
  "language_info": {
   "codemirror_mode": {
    "name": "ipython",
    "version": 3
   },
   "file_extension": ".py",
   "mimetype": "text/x-python",
   "name": "python",
   "nbconvert_exporter": "python",
   "pygments_lexer": "ipython3",
   "version": "3.12.4"
  }
 },
 "nbformat": 4,
 "nbformat_minor": 2
}
