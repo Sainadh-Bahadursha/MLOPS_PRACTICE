{
 "cells": [
  {
   "cell_type": "code",
   "execution_count": 8,
   "metadata": {},
   "outputs": [],
   "source": [
    "import pickle"
   ]
  },
  {
   "cell_type": "code",
   "execution_count": 9,
   "metadata": {},
   "outputs": [],
   "source": [
    "loan_application = {\n",
    "    'Gender': \"Male\",\n",
    "    'Married': \"Unmarried\",\n",
    "    'ApplicantIncome': 50000,\n",
    "    'Credit_History': \"Cleared Debts\",\n",
    "    'LoanAmount': 500000\n",
    "}"
   ]
  },
  {
   "cell_type": "code",
   "execution_count": 10,
   "metadata": {},
   "outputs": [],
   "source": [
    "model_pickle = open(\"classifier.pkl\", 'rb')\n",
    "clf = pickle.load(model_pickle)"
   ]
  },
  {
   "cell_type": "code",
   "execution_count": 11,
   "metadata": {},
   "outputs": [],
   "source": [
    "from flask import Flask, request, jsonify\n",
    "\n",
    "def prediction(loan_req):\n",
    "    # Pre-processing user input\n",
    "\n",
    "#     loan_req = request.get_json()\n",
    "    print(loan_req)\n",
    "\n",
    "    if loan_req['Gender'] == \"Male\":\n",
    "        Gender = 0\n",
    "    else:\n",
    "        Gender = 1\n",
    "\n",
    "    if loan_req['Married'] == \"Unmarried\":\n",
    "        Married = 0\n",
    "    else:\n",
    "        Married = 1\n",
    "\n",
    "    if loan_req['Credit_History'] == \"Unclear Debts\":\n",
    "        Credit_History = 0\n",
    "    else:\n",
    "        Credit_History = 1\n",
    "\n",
    "    ApplicantIncome = loan_req['ApplicantIncome']\n",
    "    LoanAmount = loan_req['LoanAmount'] / 1000\n",
    "\n",
    "    # Making predictions\n",
    "    prediction = clf.predict(\n",
    "        [[Gender, Married, ApplicantIncome, LoanAmount, Credit_History]])\n",
    "\n",
    "    if prediction == 0:\n",
    "        pred = 'Rejected'\n",
    "    else:\n",
    "        pred = 'Approved'\n",
    "    return pred\n"
   ]
  },
  {
   "cell_type": "code",
   "execution_count": 12,
   "metadata": {},
   "outputs": [
    {
     "name": "stdout",
     "output_type": "stream",
     "text": [
      "{'Gender': 'Male', 'Married': 'Unmarried', 'ApplicantIncome': 50000, 'Credit_History': 'Cleared Debts', 'LoanAmount': 500000}\n"
     ]
    },
    {
     "name": "stderr",
     "output_type": "stream",
     "text": [
      "c:\\Users\\saina\\Desktop\\DS_ML_AI\\Scaler\\Module_17_MLOPS\\MLOPS_GIT\\MLOPS_PRACTICE\\mlops_venv\\Lib\\site-packages\\sklearn\\base.py:493: UserWarning: X does not have valid feature names, but LogisticRegression was fitted with feature names\n",
      "  warnings.warn(\n"
     ]
    },
    {
     "data": {
      "text/plain": [
       "'Approved'"
      ]
     },
     "execution_count": 12,
     "metadata": {},
     "output_type": "execute_result"
    }
   ],
   "source": [
    "prediction(loan_application)"
   ]
  },
  {
   "cell_type": "code",
   "execution_count": 14,
   "metadata": {},
   "outputs": [
    {
     "name": "stdout",
     "output_type": "stream",
     "text": [
      "{\"loan_approval_status\":\"Rejected\"}\n",
      "\n"
     ]
    }
   ],
   "source": [
    "import requests\n",
    "\n",
    "url = \"http://127.0.0.1:8001/predict\"\n",
    "myobj = {\n",
    "    \"Gender\": \"Male\",\n",
    "    \"Married\": \"Yes\",\n",
    "    \"ApplicantIncome\": 50000,\n",
    "    \"LoanAmount\": 5000,\n",
    "    \"Credit_History\": 1.0 \n",
    "}\n",
    "\n",
    "x = requests.post(url, json = myobj)\n",
    "\n",
    "print(x.text)"
   ]
  },
  {
   "cell_type": "code",
   "execution_count": null,
   "metadata": {},
   "outputs": [],
   "source": [
    "x = requests.get('http://127.0.0.1:8001/predict')\n",
    "print(x.status_code)\n",
    "print(x)"
   ]
  }
 ],
 "metadata": {
  "kernelspec": {
   "display_name": "mlops_venv",
   "language": "python",
   "name": "python3"
  },
  "language_info": {
   "codemirror_mode": {
    "name": "ipython",
    "version": 3
   },
   "file_extension": ".py",
   "mimetype": "text/x-python",
   "name": "python",
   "nbconvert_exporter": "python",
   "pygments_lexer": "ipython3",
   "version": "3.12.4"
  }
 },
 "nbformat": 4,
 "nbformat_minor": 2
}
